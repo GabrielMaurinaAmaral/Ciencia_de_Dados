{
 "cells": [
  {
   "cell_type": "markdown",
   "metadata": {},
   "source": [
    "# Formação Cientista de Dados - Prof. Fernando Amaral\n",
    "Funções Padrão"
   ]
  },
  {
   "cell_type": "code",
   "execution_count": 3,
   "metadata": {},
   "outputs": [
    {
     "name": "stdout",
     "output_type": "stream",
     "text": [
      "200\n",
      "Maior valor:  45\n",
      "Menor valor:  1\n",
      "Soma:  133\n",
      "Arredondamento:  2.35\n"
     ]
    }
   ],
   "source": [
    "#funções internas\n",
    "print(abs(-200))\n",
    "\n",
    "lst = [1,2,25,30,30,45]\n",
    "\n",
    "print(\"Maior valor: \", max(lst))\n",
    "print(\"Menor valor: \", min(lst))\n",
    "print(\"Soma: \", sum(lst))\n",
    "print(\"Arredondamento: \", round(2.34567,2))"
   ]
  },
  {
   "cell_type": "code",
   "execution_count": 4,
   "metadata": {},
   "outputs": [
    {
     "name": "stdout",
     "output_type": "stream",
     "text": [
      "Média:  22.166666666666668\n",
      "Mediana:  27.5\n",
      "Moda:  30\n"
     ]
    }
   ],
   "source": [
    "#statistica\n",
    "from statistics import *\n",
    "print(\"Média: \", mean(lst))\n",
    "print(\"Mediana: \", median(lst))\n",
    "print(\"Moda: \", mode(lst))"
   ]
  },
  {
   "cell_type": "code",
   "execution_count": 5,
   "metadata": {},
   "outputs": [
    {
     "name": "stdout",
     "output_type": "stream",
     "text": [
      "Desvio padrão:  17.359915514387353\n"
     ]
    }
   ],
   "source": [
    "#desvio padrão da amostra\n",
    "print(\"Desvio padrão: \", stdev(lst))"
   ]
  },
  {
   "cell_type": "code",
   "execution_count": 6,
   "metadata": {},
   "outputs": [
    {
     "name": "stdout",
     "output_type": "stream",
     "text": [
      "Variância:  301.3666666666667\n"
     ]
    }
   ],
   "source": [
    "#variancia da amostra\n",
    "print(\"Variância: \", variance(lst))"
   ]
  },
  {
   "cell_type": "code",
   "execution_count": 7,
   "metadata": {},
   "outputs": [
    {
     "name": "stdout",
     "output_type": "stream",
     "text": [
      "<class 'numpy.ndarray'>\n",
      "[[0.25318739 0.64726634 0.05444067 0.2266162  0.18713931 0.94533312\n",
      "  0.98515714 0.71214648]\n",
      " [0.52856292 0.29901846 0.11034757 0.7430383  0.59338485 0.6820169\n",
      "  0.18732128 0.31246624]\n",
      " [0.78105427 0.97292363 0.61090075 0.13939424 0.91056394 0.6396892\n",
      "  0.28265735 0.18247033]\n",
      " [0.96841911 0.84666222 0.84093003 0.87011807 0.79782588 0.77934471\n",
      "  0.68845811 0.29317364]\n",
      " [0.29361816 0.29080807 0.76510723 0.92680708 0.61329283 0.09808554\n",
      "  0.34984755 0.23272087]\n",
      " [0.03421957 0.26752094 0.70047295 0.49423378 0.91211093 0.13611279\n",
      "  0.37335645 0.52406646]\n",
      " [0.2357521  0.6268197  0.92570199 0.34525254 0.67136613 0.84653074\n",
      "  0.59151221 0.52277019]\n",
      " [0.19896809 0.21992807 0.99961594 0.567511   0.21427792 0.15593295\n",
      "  0.7985936  0.34067571]]\n"
     ]
    }
   ],
   "source": [
    "from numpy import *\n",
    "\n",
    "a = random.random((8,8))\n",
    "\n",
    "print(type(a))\n",
    "print(a)"
   ]
  },
  {
   "cell_type": "code",
   "execution_count": null,
   "metadata": {},
   "outputs": [],
   "source": []
  }
 ],
 "metadata": {
  "kernelspec": {
   "display_name": "Python 3",
   "language": "python",
   "name": "python3"
  },
  "language_info": {
   "codemirror_mode": {
    "name": "ipython",
    "version": 3
   },
   "file_extension": ".py",
   "mimetype": "text/x-python",
   "name": "python",
   "nbconvert_exporter": "python",
   "pygments_lexer": "ipython3",
   "version": "3.11.3"
  }
 },
 "nbformat": 4,
 "nbformat_minor": 4
}
